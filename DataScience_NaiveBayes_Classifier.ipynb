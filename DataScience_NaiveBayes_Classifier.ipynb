{
  "nbformat": 4,
  "nbformat_minor": 0,
  "metadata": {
    "colab": {
      "provenance": [],
      "authorship_tag": "ABX9TyN0kTb/3paELYJwFIyx4ZZ5",
      "include_colab_link": true
    },
    "kernelspec": {
      "name": "python3",
      "display_name": "Python 3"
    },
    "language_info": {
      "name": "python"
    }
  },
  "cells": [
    {
      "cell_type": "markdown",
      "metadata": {
        "id": "view-in-github",
        "colab_type": "text"
      },
      "source": [
        "<a href=\"https://colab.research.google.com/github/kelvynlukito/DataScience_NaiveBayes_Classifier/blob/main/DataScience_NaiveBayes_Classifier.ipynb\" target=\"_parent\"><img src=\"https://colab.research.google.com/assets/colab-badge.svg\" alt=\"Open In Colab\"/></a>"
      ]
    },
    {
      "cell_type": "markdown",
      "source": [
        "# **Naive Bayes**"
      ],
      "metadata": {
        "id": "hk8pAN7tpxH_"
      }
    },
    {
      "cell_type": "markdown",
      "source": [
        "# **Import Modul**"
      ],
      "metadata": {
        "id": "tNP9EoUWp0wy"
      }
    },
    {
      "cell_type": "code",
      "execution_count": 7,
      "metadata": {
        "id": "r6nwnEmlpl9Y"
      },
      "outputs": [],
      "source": [
        "import numpy as np\n",
        "import matplotlib.pyplot as plt\n",
        "import seaborn as sns\n",
        "import pandas as pd"
      ]
    },
    {
      "cell_type": "markdown",
      "source": [
        "# **Import Dataset**"
      ],
      "metadata": {
        "id": "TrWktnsnqHbh"
      }
    },
    {
      "cell_type": "code",
      "source": [
        "df = pd.read_csv('/content/Social_Network_Ads.csv')\n",
        "df"
      ],
      "metadata": {
        "colab": {
          "base_uri": "https://localhost:8080/",
          "height": 424
        },
        "id": "gK7Kx3ZEqG0h",
        "outputId": "10ebc778-d0f9-49d8-99e8-1a7473a8ab80"
      },
      "execution_count": 8,
      "outputs": [
        {
          "output_type": "execute_result",
          "data": {
            "text/plain": [
              "     Age  EstimatedSalary  Purchased\n",
              "0     19            19000          0\n",
              "1     35            20000          0\n",
              "2     26            43000          0\n",
              "3     27            57000          0\n",
              "4     19            76000          0\n",
              "..   ...              ...        ...\n",
              "395   46            41000          1\n",
              "396   51            23000          1\n",
              "397   50            20000          1\n",
              "398   36            33000          0\n",
              "399   49            36000          1\n",
              "\n",
              "[400 rows x 3 columns]"
            ],
            "text/html": [
              "\n",
              "  <div id=\"df-d8726091-76d8-46ca-85a4-1e4b5cc45998\">\n",
              "    <div class=\"colab-df-container\">\n",
              "      <div>\n",
              "<style scoped>\n",
              "    .dataframe tbody tr th:only-of-type {\n",
              "        vertical-align: middle;\n",
              "    }\n",
              "\n",
              "    .dataframe tbody tr th {\n",
              "        vertical-align: top;\n",
              "    }\n",
              "\n",
              "    .dataframe thead th {\n",
              "        text-align: right;\n",
              "    }\n",
              "</style>\n",
              "<table border=\"1\" class=\"dataframe\">\n",
              "  <thead>\n",
              "    <tr style=\"text-align: right;\">\n",
              "      <th></th>\n",
              "      <th>Age</th>\n",
              "      <th>EstimatedSalary</th>\n",
              "      <th>Purchased</th>\n",
              "    </tr>\n",
              "  </thead>\n",
              "  <tbody>\n",
              "    <tr>\n",
              "      <th>0</th>\n",
              "      <td>19</td>\n",
              "      <td>19000</td>\n",
              "      <td>0</td>\n",
              "    </tr>\n",
              "    <tr>\n",
              "      <th>1</th>\n",
              "      <td>35</td>\n",
              "      <td>20000</td>\n",
              "      <td>0</td>\n",
              "    </tr>\n",
              "    <tr>\n",
              "      <th>2</th>\n",
              "      <td>26</td>\n",
              "      <td>43000</td>\n",
              "      <td>0</td>\n",
              "    </tr>\n",
              "    <tr>\n",
              "      <th>3</th>\n",
              "      <td>27</td>\n",
              "      <td>57000</td>\n",
              "      <td>0</td>\n",
              "    </tr>\n",
              "    <tr>\n",
              "      <th>4</th>\n",
              "      <td>19</td>\n",
              "      <td>76000</td>\n",
              "      <td>0</td>\n",
              "    </tr>\n",
              "    <tr>\n",
              "      <th>...</th>\n",
              "      <td>...</td>\n",
              "      <td>...</td>\n",
              "      <td>...</td>\n",
              "    </tr>\n",
              "    <tr>\n",
              "      <th>395</th>\n",
              "      <td>46</td>\n",
              "      <td>41000</td>\n",
              "      <td>1</td>\n",
              "    </tr>\n",
              "    <tr>\n",
              "      <th>396</th>\n",
              "      <td>51</td>\n",
              "      <td>23000</td>\n",
              "      <td>1</td>\n",
              "    </tr>\n",
              "    <tr>\n",
              "      <th>397</th>\n",
              "      <td>50</td>\n",
              "      <td>20000</td>\n",
              "      <td>1</td>\n",
              "    </tr>\n",
              "    <tr>\n",
              "      <th>398</th>\n",
              "      <td>36</td>\n",
              "      <td>33000</td>\n",
              "      <td>0</td>\n",
              "    </tr>\n",
              "    <tr>\n",
              "      <th>399</th>\n",
              "      <td>49</td>\n",
              "      <td>36000</td>\n",
              "      <td>1</td>\n",
              "    </tr>\n",
              "  </tbody>\n",
              "</table>\n",
              "<p>400 rows × 3 columns</p>\n",
              "</div>\n",
              "      <button class=\"colab-df-convert\" onclick=\"convertToInteractive('df-d8726091-76d8-46ca-85a4-1e4b5cc45998')\"\n",
              "              title=\"Convert this dataframe to an interactive table.\"\n",
              "              style=\"display:none;\">\n",
              "        \n",
              "  <svg xmlns=\"http://www.w3.org/2000/svg\" height=\"24px\"viewBox=\"0 0 24 24\"\n",
              "       width=\"24px\">\n",
              "    <path d=\"M0 0h24v24H0V0z\" fill=\"none\"/>\n",
              "    <path d=\"M18.56 5.44l.94 2.06.94-2.06 2.06-.94-2.06-.94-.94-2.06-.94 2.06-2.06.94zm-11 1L8.5 8.5l.94-2.06 2.06-.94-2.06-.94L8.5 2.5l-.94 2.06-2.06.94zm10 10l.94 2.06.94-2.06 2.06-.94-2.06-.94-.94-2.06-.94 2.06-2.06.94z\"/><path d=\"M17.41 7.96l-1.37-1.37c-.4-.4-.92-.59-1.43-.59-.52 0-1.04.2-1.43.59L10.3 9.45l-7.72 7.72c-.78.78-.78 2.05 0 2.83L4 21.41c.39.39.9.59 1.41.59.51 0 1.02-.2 1.41-.59l7.78-7.78 2.81-2.81c.8-.78.8-2.07 0-2.86zM5.41 20L4 18.59l7.72-7.72 1.47 1.35L5.41 20z\"/>\n",
              "  </svg>\n",
              "      </button>\n",
              "      \n",
              "  <style>\n",
              "    .colab-df-container {\n",
              "      display:flex;\n",
              "      flex-wrap:wrap;\n",
              "      gap: 12px;\n",
              "    }\n",
              "\n",
              "    .colab-df-convert {\n",
              "      background-color: #E8F0FE;\n",
              "      border: none;\n",
              "      border-radius: 50%;\n",
              "      cursor: pointer;\n",
              "      display: none;\n",
              "      fill: #1967D2;\n",
              "      height: 32px;\n",
              "      padding: 0 0 0 0;\n",
              "      width: 32px;\n",
              "    }\n",
              "\n",
              "    .colab-df-convert:hover {\n",
              "      background-color: #E2EBFA;\n",
              "      box-shadow: 0px 1px 2px rgba(60, 64, 67, 0.3), 0px 1px 3px 1px rgba(60, 64, 67, 0.15);\n",
              "      fill: #174EA6;\n",
              "    }\n",
              "\n",
              "    [theme=dark] .colab-df-convert {\n",
              "      background-color: #3B4455;\n",
              "      fill: #D2E3FC;\n",
              "    }\n",
              "\n",
              "    [theme=dark] .colab-df-convert:hover {\n",
              "      background-color: #434B5C;\n",
              "      box-shadow: 0px 1px 3px 1px rgba(0, 0, 0, 0.15);\n",
              "      filter: drop-shadow(0px 1px 2px rgba(0, 0, 0, 0.3));\n",
              "      fill: #FFFFFF;\n",
              "    }\n",
              "  </style>\n",
              "\n",
              "      <script>\n",
              "        const buttonEl =\n",
              "          document.querySelector('#df-d8726091-76d8-46ca-85a4-1e4b5cc45998 button.colab-df-convert');\n",
              "        buttonEl.style.display =\n",
              "          google.colab.kernel.accessAllowed ? 'block' : 'none';\n",
              "\n",
              "        async function convertToInteractive(key) {\n",
              "          const element = document.querySelector('#df-d8726091-76d8-46ca-85a4-1e4b5cc45998');\n",
              "          const dataTable =\n",
              "            await google.colab.kernel.invokeFunction('convertToInteractive',\n",
              "                                                     [key], {});\n",
              "          if (!dataTable) return;\n",
              "\n",
              "          const docLinkHtml = 'Like what you see? Visit the ' +\n",
              "            '<a target=\"_blank\" href=https://colab.research.google.com/notebooks/data_table.ipynb>data table notebook</a>'\n",
              "            + ' to learn more about interactive tables.';\n",
              "          element.innerHTML = '';\n",
              "          dataTable['output_type'] = 'display_data';\n",
              "          await google.colab.output.renderOutput(dataTable, element);\n",
              "          const docLink = document.createElement('div');\n",
              "          docLink.innerHTML = docLinkHtml;\n",
              "          element.appendChild(docLink);\n",
              "        }\n",
              "      </script>\n",
              "    </div>\n",
              "  </div>\n",
              "  "
            ]
          },
          "metadata": {},
          "execution_count": 8
        }
      ]
    },
    {
      "cell_type": "code",
      "source": [
        "X = df.iloc[:, :-1].values\n",
        "y = df.iloc[:, -1].values"
      ],
      "metadata": {
        "id": "cYhuBKLWqblL"
      },
      "execution_count": 9,
      "outputs": []
    },
    {
      "cell_type": "markdown",
      "source": [
        "# **Training and Testing Set**"
      ],
      "metadata": {
        "id": "8fttan4YrDbh"
      }
    },
    {
      "cell_type": "code",
      "source": [
        "from sklearn.model_selection import train_test_split\n",
        "X_train, X_test, y_train, y_test = train_test_split(X, y, test_size=0.25, random_state=0)"
      ],
      "metadata": {
        "id": "Yd9zkvvNrECr"
      },
      "execution_count": 10,
      "outputs": []
    },
    {
      "cell_type": "code",
      "source": [
        "print(X_train)"
      ],
      "metadata": {
        "colab": {
          "base_uri": "https://localhost:8080/"
        },
        "id": "GGYjBXnMrU6F",
        "outputId": "ec188282-b656-40b3-e896-9301ee7537ac"
      },
      "execution_count": 18,
      "outputs": [
        {
          "output_type": "stream",
          "name": "stdout",
          "text": [
            "[[ 0.58164944 -0.88670699]\n",
            " [-0.60673761  1.46173768]\n",
            " [-0.01254409 -0.5677824 ]\n",
            " [-0.60673761  1.89663484]\n",
            " [ 1.37390747 -1.40858358]\n",
            " [ 1.47293972  0.99784738]\n",
            " [ 0.08648817 -0.79972756]\n",
            " [-0.01254409 -0.24885782]\n",
            " [-0.21060859 -0.5677824 ]\n",
            " [-0.21060859 -0.19087153]\n",
            " [-0.30964085 -1.29261101]\n",
            " [-0.30964085 -0.5677824 ]\n",
            " [ 0.38358493  0.09905991]\n",
            " [ 0.8787462  -0.59677555]\n",
            " [ 2.06713324 -1.17663843]\n",
            " [ 1.07681071 -0.13288524]\n",
            " [ 0.68068169  1.78066227]\n",
            " [-0.70576986  0.56295021]\n",
            " [ 0.77971394  0.35999821]\n",
            " [ 0.8787462  -0.53878926]\n",
            " [-1.20093113 -1.58254245]\n",
            " [ 2.1661655   0.93986109]\n",
            " [-0.01254409  1.22979253]\n",
            " [ 0.18552042  1.08482681]\n",
            " [ 0.38358493 -0.48080297]\n",
            " [-0.30964085 -0.30684411]\n",
            " [ 0.97777845 -0.8287207 ]\n",
            " [ 0.97777845  1.8676417 ]\n",
            " [-0.01254409  1.25878567]\n",
            " [-0.90383437  2.27354572]\n",
            " [-1.20093113 -1.58254245]\n",
            " [ 2.1661655  -0.79972756]\n",
            " [-1.39899564 -1.46656987]\n",
            " [ 0.38358493  2.30253886]\n",
            " [ 0.77971394  0.76590222]\n",
            " [-1.00286662 -0.30684411]\n",
            " [ 0.08648817  0.76590222]\n",
            " [-1.00286662  0.56295021]\n",
            " [ 0.28455268  0.07006676]\n",
            " [ 0.68068169 -1.26361786]\n",
            " [-0.50770535 -0.01691267]\n",
            " [-1.79512465  0.35999821]\n",
            " [-0.70576986  0.12805305]\n",
            " [ 0.38358493  0.30201192]\n",
            " [-0.30964085  0.07006676]\n",
            " [-0.50770535  2.30253886]\n",
            " [ 0.18552042  0.04107362]\n",
            " [ 1.27487521  2.21555943]\n",
            " [ 0.77971394  0.27301877]\n",
            " [-0.30964085  0.1570462 ]\n",
            " [-0.01254409 -0.53878926]\n",
            " [-0.21060859  0.1570462 ]\n",
            " [-0.11157634  0.24402563]\n",
            " [-0.01254409 -0.24885782]\n",
            " [ 2.1661655   1.11381995]\n",
            " [-1.79512465  0.35999821]\n",
            " [ 1.86906873  0.12805305]\n",
            " [ 0.38358493 -0.13288524]\n",
            " [-1.20093113  0.30201192]\n",
            " [ 0.77971394  1.37475825]\n",
            " [-0.30964085 -0.24885782]\n",
            " [-1.6960924  -0.04590581]\n",
            " [-1.00286662 -0.74174127]\n",
            " [ 0.28455268  0.50496393]\n",
            " [-0.11157634 -1.06066585]\n",
            " [-1.10189888  0.59194336]\n",
            " [ 0.08648817 -0.79972756]\n",
            " [-1.00286662  1.54871711]\n",
            " [-0.70576986  1.40375139]\n",
            " [-1.29996338  0.50496393]\n",
            " [-0.30964085  0.04107362]\n",
            " [-0.11157634  0.01208048]\n",
            " [-0.30964085 -0.88670699]\n",
            " [ 0.8787462  -1.3505973 ]\n",
            " [-0.30964085  2.24455257]\n",
            " [ 0.97777845  1.98361427]\n",
            " [-1.20093113  0.47597078]\n",
            " [-1.29996338  0.27301877]\n",
            " [ 1.37390747  1.98361427]\n",
            " [ 1.27487521 -1.3505973 ]\n",
            " [-0.30964085 -0.27785096]\n",
            " [-0.50770535  1.25878567]\n",
            " [-0.80480212  1.08482681]\n",
            " [ 0.97777845 -1.06066585]\n",
            " [ 0.28455268  0.30201192]\n",
            " [ 0.97777845  0.76590222]\n",
            " [-0.70576986 -1.49556302]\n",
            " [-0.70576986  0.04107362]\n",
            " [ 0.48261718  1.72267598]\n",
            " [ 2.06713324  0.18603934]\n",
            " [-1.99318916 -0.74174127]\n",
            " [-0.21060859  1.40375139]\n",
            " [ 0.38358493  0.59194336]\n",
            " [ 0.8787462  -1.14764529]\n",
            " [-1.20093113 -0.77073441]\n",
            " [ 0.18552042  0.24402563]\n",
            " [ 0.77971394 -0.30684411]\n",
            " [ 2.06713324 -0.79972756]\n",
            " [ 0.77971394  0.12805305]\n",
            " [-0.30964085  0.6209365 ]\n",
            " [-1.00286662 -0.30684411]\n",
            " [ 0.18552042 -0.3648304 ]\n",
            " [ 2.06713324  2.12857999]\n",
            " [ 1.86906873 -1.26361786]\n",
            " [ 1.37390747 -0.91570013]\n",
            " [ 0.8787462   1.25878567]\n",
            " [ 1.47293972  2.12857999]\n",
            " [-0.30964085 -1.23462472]\n",
            " [ 1.96810099  0.91086794]\n",
            " [ 0.68068169 -0.71274813]\n",
            " [-1.49802789  0.35999821]\n",
            " [ 0.77971394 -1.3505973 ]\n",
            " [ 0.38358493 -0.13288524]\n",
            " [-1.00286662  0.41798449]\n",
            " [-0.01254409 -0.30684411]\n",
            " [-1.20093113  0.41798449]\n",
            " [-0.90383437 -1.20563157]\n",
            " [-0.11157634  0.04107362]\n",
            " [-1.59706014 -0.42281668]\n",
            " [ 0.97777845 -1.00267957]\n",
            " [ 1.07681071 -1.20563157]\n",
            " [-0.01254409 -0.13288524]\n",
            " [-1.10189888 -1.52455616]\n",
            " [ 0.77971394 -1.20563157]\n",
            " [ 0.97777845  2.07059371]\n",
            " [-1.20093113 -1.52455616]\n",
            " [-0.30964085  0.79489537]\n",
            " [ 0.08648817 -0.30684411]\n",
            " [-1.39899564 -1.23462472]\n",
            " [-0.60673761 -1.49556302]\n",
            " [ 0.77971394  0.53395707]\n",
            " [-0.30964085 -0.33583725]\n",
            " [ 1.77003648 -0.27785096]\n",
            " [ 0.8787462  -1.03167271]\n",
            " [ 0.18552042  0.07006676]\n",
            " [-0.60673761  0.8818748 ]\n",
            " [-1.89415691 -1.40858358]\n",
            " [-1.29996338  0.59194336]\n",
            " [-0.30964085  0.53395707]\n",
            " [-1.00286662 -1.089659  ]\n",
            " [ 1.17584296 -1.43757673]\n",
            " [ 0.18552042 -0.30684411]\n",
            " [ 1.17584296 -0.74174127]\n",
            " [-0.30964085  0.07006676]\n",
            " [ 0.18552042  2.09958685]\n",
            " [ 0.77971394 -1.089659  ]\n",
            " [ 0.08648817  0.04107362]\n",
            " [-1.79512465  0.12805305]\n",
            " [-0.90383437  0.1570462 ]\n",
            " [-0.70576986  0.18603934]\n",
            " [ 0.8787462  -1.29261101]\n",
            " [ 0.18552042 -0.24885782]\n",
            " [-0.4086731   1.22979253]\n",
            " [-0.01254409  0.30201192]\n",
            " [ 0.38358493  0.1570462 ]\n",
            " [ 0.8787462  -0.65476184]\n",
            " [ 0.08648817  0.1570462 ]\n",
            " [-1.89415691 -1.29261101]\n",
            " [-0.11157634  0.30201192]\n",
            " [-0.21060859 -0.27785096]\n",
            " [ 0.28455268 -0.50979612]\n",
            " [-0.21060859  1.6067034 ]\n",
            " [ 0.97777845 -1.17663843]\n",
            " [-0.21060859  1.63569655]\n",
            " [ 1.27487521  1.8676417 ]\n",
            " [-1.10189888 -0.3648304 ]\n",
            " [-0.01254409  0.04107362]\n",
            " [ 0.08648817 -0.24885782]\n",
            " [-1.59706014 -1.23462472]\n",
            " [-0.50770535 -0.27785096]\n",
            " [ 0.97777845  0.12805305]\n",
            " [ 1.96810099 -1.3505973 ]\n",
            " [ 1.47293972  0.07006676]\n",
            " [-0.60673761  1.37475825]\n",
            " [ 1.57197197  0.01208048]\n",
            " [-0.80480212  0.30201192]\n",
            " [ 1.96810099  0.73690908]\n",
            " [-1.20093113 -0.50979612]\n",
            " [ 0.68068169  0.27301877]\n",
            " [-1.39899564 -0.42281668]\n",
            " [ 0.18552042  0.1570462 ]\n",
            " [-0.50770535 -1.20563157]\n",
            " [ 0.58164944  2.01260742]\n",
            " [-1.59706014 -1.49556302]\n",
            " [-0.50770535 -0.53878926]\n",
            " [ 0.48261718  1.83864855]\n",
            " [-1.39899564 -1.089659  ]\n",
            " [ 0.77971394 -1.37959044]\n",
            " [-0.30964085 -0.42281668]\n",
            " [ 1.57197197  0.99784738]\n",
            " [ 0.97777845  1.43274454]\n",
            " [-0.30964085 -0.48080297]\n",
            " [-0.11157634  2.15757314]\n",
            " [-1.49802789 -0.1038921 ]\n",
            " [-0.11157634  1.95462113]\n",
            " [-0.70576986 -0.33583725]\n",
            " [-0.50770535 -0.8287207 ]\n",
            " [ 0.68068169 -1.37959044]\n",
            " [-0.80480212 -1.58254245]\n",
            " [-1.89415691 -1.46656987]\n",
            " [ 1.07681071  0.12805305]\n",
            " [ 0.08648817  1.51972397]\n",
            " [-0.30964085  0.09905991]\n",
            " [ 0.08648817  0.04107362]\n",
            " [-1.39899564 -1.3505973 ]\n",
            " [ 0.28455268  0.07006676]\n",
            " [-0.90383437  0.38899135]\n",
            " [ 1.57197197 -1.26361786]\n",
            " [-0.30964085 -0.74174127]\n",
            " [-0.11157634  0.1570462 ]\n",
            " [-0.90383437 -0.65476184]\n",
            " [-0.70576986 -0.04590581]\n",
            " [ 0.38358493 -0.45180983]\n",
            " [-0.80480212  1.89663484]\n",
            " [ 1.37390747  1.28777882]\n",
            " [ 1.17584296 -0.97368642]\n",
            " [ 1.77003648  1.83864855]\n",
            " [-0.90383437 -0.24885782]\n",
            " [-0.80480212  0.56295021]\n",
            " [-1.20093113 -1.5535493 ]\n",
            " [-0.50770535 -1.11865214]\n",
            " [ 0.28455268  0.07006676]\n",
            " [-0.21060859 -1.06066585]\n",
            " [ 1.67100423  1.6067034 ]\n",
            " [ 0.97777845  1.78066227]\n",
            " [ 0.28455268  0.04107362]\n",
            " [-0.80480212 -0.21986468]\n",
            " [-0.11157634  0.07006676]\n",
            " [ 0.28455268 -0.19087153]\n",
            " [ 1.96810099 -0.65476184]\n",
            " [-0.80480212  1.3457651 ]\n",
            " [-1.79512465 -0.59677555]\n",
            " [-0.11157634  0.12805305]\n",
            " [ 0.28455268 -0.30684411]\n",
            " [ 1.07681071  0.56295021]\n",
            " [-1.00286662  0.27301877]\n",
            " [ 1.47293972  0.35999821]\n",
            " [ 0.18552042 -0.3648304 ]\n",
            " [ 2.1661655  -1.03167271]\n",
            " [-0.30964085  1.11381995]\n",
            " [-1.6960924   0.07006676]\n",
            " [-0.01254409  0.04107362]\n",
            " [ 0.08648817  1.05583366]\n",
            " [-0.11157634 -0.3648304 ]\n",
            " [-1.20093113  0.07006676]\n",
            " [-0.30964085 -1.3505973 ]\n",
            " [ 1.57197197  1.11381995]\n",
            " [-0.80480212 -1.52455616]\n",
            " [ 0.08648817  1.8676417 ]\n",
            " [-0.90383437 -0.77073441]\n",
            " [-0.50770535 -0.77073441]\n",
            " [-0.30964085 -0.91570013]\n",
            " [ 0.28455268 -0.71274813]\n",
            " [ 0.28455268  0.07006676]\n",
            " [ 0.08648817  1.8676417 ]\n",
            " [-1.10189888  1.95462113]\n",
            " [-1.6960924  -1.5535493 ]\n",
            " [-1.20093113 -1.089659  ]\n",
            " [-0.70576986 -0.1038921 ]\n",
            " [ 0.08648817  0.09905991]\n",
            " [ 0.28455268  0.27301877]\n",
            " [ 0.8787462  -0.5677824 ]\n",
            " [ 0.28455268 -1.14764529]\n",
            " [-0.11157634  0.67892279]\n",
            " [ 2.1661655  -0.68375498]\n",
            " [-1.29996338 -1.37959044]\n",
            " [-1.00286662 -0.94469328]\n",
            " [-0.01254409 -0.42281668]\n",
            " [-0.21060859 -0.45180983]\n",
            " [-1.79512465 -0.97368642]\n",
            " [ 1.77003648  0.99784738]\n",
            " [ 0.18552042 -0.3648304 ]\n",
            " [ 0.38358493  1.11381995]\n",
            " [-1.79512465 -1.3505973 ]\n",
            " [ 0.18552042 -0.13288524]\n",
            " [ 0.8787462  -1.43757673]\n",
            " [-1.99318916  0.47597078]\n",
            " [-0.30964085  0.27301877]\n",
            " [ 1.86906873 -1.06066585]\n",
            " [-0.4086731   0.07006676]\n",
            " [ 1.07681071 -0.88670699]\n",
            " [-1.10189888 -1.11865214]\n",
            " [-1.89415691  0.01208048]\n",
            " [ 0.08648817  0.27301877]\n",
            " [-1.20093113  0.33100506]\n",
            " [-1.29996338  0.30201192]\n",
            " [-1.00286662  0.44697764]\n",
            " [ 1.67100423 -0.88670699]\n",
            " [ 1.17584296  0.53395707]\n",
            " [ 1.07681071  0.53395707]\n",
            " [ 1.37390747  2.331532  ]\n",
            " [-0.30964085 -0.13288524]\n",
            " [ 0.38358493 -0.45180983]\n",
            " [-0.4086731  -0.77073441]\n",
            " [-0.11157634 -0.50979612]\n",
            " [ 0.97777845 -1.14764529]\n",
            " [-0.90383437 -0.77073441]\n",
            " [-0.21060859 -0.50979612]\n",
            " [-1.10189888 -0.45180983]\n",
            " [-1.20093113  1.40375139]]\n"
          ]
        }
      ]
    },
    {
      "cell_type": "code",
      "source": [
        "print(y_train)"
      ],
      "metadata": {
        "colab": {
          "base_uri": "https://localhost:8080/"
        },
        "id": "Ooz2hJ-lrWgi",
        "outputId": "525d5ffe-c453-483e-8dae-38c9cd3f4c6a"
      },
      "execution_count": 19,
      "outputs": [
        {
          "output_type": "stream",
          "name": "stdout",
          "text": [
            "[0 1 0 1 1 1 0 0 0 0 0 0 1 1 1 0 1 0 0 1 0 1 0 1 0 0 1 1 1 1 0 1 0 1 0 0 1\n",
            " 0 0 1 0 0 0 0 0 1 1 1 1 0 0 0 1 0 1 0 1 0 0 1 0 0 0 1 0 0 0 1 1 0 0 1 0 1\n",
            " 1 1 0 0 1 1 0 0 1 1 0 1 0 0 1 1 0 1 1 1 0 0 0 0 0 1 0 0 1 1 1 1 1 0 1 1 0\n",
            " 1 0 0 0 0 0 0 0 1 1 0 0 1 0 0 1 0 0 0 1 0 1 1 0 1 0 0 0 0 1 0 0 0 1 1 0 0\n",
            " 0 0 1 0 1 0 0 0 1 0 0 0 0 1 1 1 0 0 0 0 0 0 1 1 1 1 1 0 1 0 0 0 0 0 1 0 0\n",
            " 0 0 0 0 1 1 0 1 0 1 0 0 1 0 0 0 1 0 0 0 0 0 1 0 0 0 0 0 1 0 1 1 0 0 0 0 0\n",
            " 0 1 1 0 0 0 0 1 0 0 0 0 1 0 1 0 1 0 0 0 1 0 0 0 1 0 1 0 0 0 0 0 1 1 0 0 0\n",
            " 0 0 1 0 1 1 0 0 0 0 0 1 0 1 0 0 1 0 0 1 0 1 0 0 0 0 0 0 1 1 1 1 0 0 0 0 1\n",
            " 0 0 0 0]\n"
          ]
        }
      ]
    },
    {
      "cell_type": "code",
      "source": [
        "print(X_test)"
      ],
      "metadata": {
        "id": "BjbHyWVZrZni"
      },
      "execution_count": null,
      "outputs": []
    },
    {
      "cell_type": "code",
      "source": [
        "print(y_test)"
      ],
      "metadata": {
        "id": "eNv5poXzrdfa"
      },
      "execution_count": null,
      "outputs": []
    },
    {
      "cell_type": "markdown",
      "source": [
        "# **Feature Scaling**"
      ],
      "metadata": {
        "id": "vgbCgF_IsMMz"
      }
    },
    {
      "cell_type": "code",
      "source": [
        "from sklearn.preprocessing import StandardScaler\n",
        "sc = StandardScaler()\n",
        "X_train = sc.fit_transform(X_train)\n",
        "X_test = sc.transform(X_test)"
      ],
      "metadata": {
        "id": "Zku1qKBJsOYJ"
      },
      "execution_count": 20,
      "outputs": []
    },
    {
      "cell_type": "markdown",
      "source": [
        "# **Training Niave Bayes Model using Training Set**"
      ],
      "metadata": {
        "id": "rVWs1YlqrnDO"
      }
    },
    {
      "cell_type": "code",
      "source": [
        "from sklearn.naive_bayes import GaussianNB\n",
        "cls = GaussianNB()\n",
        "cls.fit(X_train, y_train)"
      ],
      "metadata": {
        "colab": {
          "base_uri": "https://localhost:8080/",
          "height": 75
        },
        "id": "RCkOCd7XrrQq",
        "outputId": "bdf65831-5e56-4483-9c27-7d270f5ec2f6"
      },
      "execution_count": 15,
      "outputs": [
        {
          "output_type": "execute_result",
          "data": {
            "text/plain": [
              "GaussianNB()"
            ],
            "text/html": [
              "<style>#sk-container-id-1 {color: black;background-color: white;}#sk-container-id-1 pre{padding: 0;}#sk-container-id-1 div.sk-toggleable {background-color: white;}#sk-container-id-1 label.sk-toggleable__label {cursor: pointer;display: block;width: 100%;margin-bottom: 0;padding: 0.3em;box-sizing: border-box;text-align: center;}#sk-container-id-1 label.sk-toggleable__label-arrow:before {content: \"▸\";float: left;margin-right: 0.25em;color: #696969;}#sk-container-id-1 label.sk-toggleable__label-arrow:hover:before {color: black;}#sk-container-id-1 div.sk-estimator:hover label.sk-toggleable__label-arrow:before {color: black;}#sk-container-id-1 div.sk-toggleable__content {max-height: 0;max-width: 0;overflow: hidden;text-align: left;background-color: #f0f8ff;}#sk-container-id-1 div.sk-toggleable__content pre {margin: 0.2em;color: black;border-radius: 0.25em;background-color: #f0f8ff;}#sk-container-id-1 input.sk-toggleable__control:checked~div.sk-toggleable__content {max-height: 200px;max-width: 100%;overflow: auto;}#sk-container-id-1 input.sk-toggleable__control:checked~label.sk-toggleable__label-arrow:before {content: \"▾\";}#sk-container-id-1 div.sk-estimator input.sk-toggleable__control:checked~label.sk-toggleable__label {background-color: #d4ebff;}#sk-container-id-1 div.sk-label input.sk-toggleable__control:checked~label.sk-toggleable__label {background-color: #d4ebff;}#sk-container-id-1 input.sk-hidden--visually {border: 0;clip: rect(1px 1px 1px 1px);clip: rect(1px, 1px, 1px, 1px);height: 1px;margin: -1px;overflow: hidden;padding: 0;position: absolute;width: 1px;}#sk-container-id-1 div.sk-estimator {font-family: monospace;background-color: #f0f8ff;border: 1px dotted black;border-radius: 0.25em;box-sizing: border-box;margin-bottom: 0.5em;}#sk-container-id-1 div.sk-estimator:hover {background-color: #d4ebff;}#sk-container-id-1 div.sk-parallel-item::after {content: \"\";width: 100%;border-bottom: 1px solid gray;flex-grow: 1;}#sk-container-id-1 div.sk-label:hover label.sk-toggleable__label {background-color: #d4ebff;}#sk-container-id-1 div.sk-serial::before {content: \"\";position: absolute;border-left: 1px solid gray;box-sizing: border-box;top: 0;bottom: 0;left: 50%;z-index: 0;}#sk-container-id-1 div.sk-serial {display: flex;flex-direction: column;align-items: center;background-color: white;padding-right: 0.2em;padding-left: 0.2em;position: relative;}#sk-container-id-1 div.sk-item {position: relative;z-index: 1;}#sk-container-id-1 div.sk-parallel {display: flex;align-items: stretch;justify-content: center;background-color: white;position: relative;}#sk-container-id-1 div.sk-item::before, #sk-container-id-1 div.sk-parallel-item::before {content: \"\";position: absolute;border-left: 1px solid gray;box-sizing: border-box;top: 0;bottom: 0;left: 50%;z-index: -1;}#sk-container-id-1 div.sk-parallel-item {display: flex;flex-direction: column;z-index: 1;position: relative;background-color: white;}#sk-container-id-1 div.sk-parallel-item:first-child::after {align-self: flex-end;width: 50%;}#sk-container-id-1 div.sk-parallel-item:last-child::after {align-self: flex-start;width: 50%;}#sk-container-id-1 div.sk-parallel-item:only-child::after {width: 0;}#sk-container-id-1 div.sk-dashed-wrapped {border: 1px dashed gray;margin: 0 0.4em 0.5em 0.4em;box-sizing: border-box;padding-bottom: 0.4em;background-color: white;}#sk-container-id-1 div.sk-label label {font-family: monospace;font-weight: bold;display: inline-block;line-height: 1.2em;}#sk-container-id-1 div.sk-label-container {text-align: center;}#sk-container-id-1 div.sk-container {/* jupyter's `normalize.less` sets `[hidden] { display: none; }` but bootstrap.min.css set `[hidden] { display: none !important; }` so we also need the `!important` here to be able to override the default hidden behavior on the sphinx rendered scikit-learn.org. See: https://github.com/scikit-learn/scikit-learn/issues/21755 */display: inline-block !important;position: relative;}#sk-container-id-1 div.sk-text-repr-fallback {display: none;}</style><div id=\"sk-container-id-1\" class=\"sk-top-container\"><div class=\"sk-text-repr-fallback\"><pre>GaussianNB()</pre><b>In a Jupyter environment, please rerun this cell to show the HTML representation or trust the notebook. <br />On GitHub, the HTML representation is unable to render, please try loading this page with nbviewer.org.</b></div><div class=\"sk-container\" hidden><div class=\"sk-item\"><div class=\"sk-estimator sk-toggleable\"><input class=\"sk-toggleable__control sk-hidden--visually\" id=\"sk-estimator-id-1\" type=\"checkbox\" checked><label for=\"sk-estimator-id-1\" class=\"sk-toggleable__label sk-toggleable__label-arrow\">GaussianNB</label><div class=\"sk-toggleable__content\"><pre>GaussianNB()</pre></div></div></div></div></div>"
            ]
          },
          "metadata": {},
          "execution_count": 15
        }
      ]
    },
    {
      "cell_type": "markdown",
      "source": [
        "# **Predict New Result**"
      ],
      "metadata": {
        "id": "xNWZZqp9r66k"
      }
    },
    {
      "cell_type": "code",
      "source": [
        "print(cls.predict(sc.transform([[30,87000]])))"
      ],
      "metadata": {
        "colab": {
          "base_uri": "https://localhost:8080/"
        },
        "id": "8vVhD0TNr42c",
        "outputId": "ae52d5ec-cf50-4943-ec10-d6ed27ca3462"
      },
      "execution_count": 21,
      "outputs": [
        {
          "output_type": "stream",
          "name": "stdout",
          "text": [
            "[0]\n"
          ]
        }
      ]
    },
    {
      "cell_type": "markdown",
      "source": [
        "# **Test Naive Bayes Model using Testing Set**"
      ],
      "metadata": {
        "id": "P88o5Mlksvc5"
      }
    },
    {
      "cell_type": "code",
      "source": [
        "y_pred = cls.predict(X_test)\n",
        "print(np.concatenate((y_pred.reshape(len(y_pred),1), y_test.reshape(len(y_test),1)),1))"
      ],
      "metadata": {
        "id": "wuLI6ioVs3Z-"
      },
      "execution_count": null,
      "outputs": []
    },
    {
      "cell_type": "markdown",
      "source": [
        "# **Confussion Matrix**"
      ],
      "metadata": {
        "id": "HpbHgu1WtZHS"
      }
    },
    {
      "cell_type": "code",
      "source": [
        "from sklearn.metrics import confusion_matrix, accuracy_score\n",
        "conf = confusion_matrix(y_test, y_pred)\n",
        "print(conf)\n",
        "print(f'Score Accuracy : {accuracy_score(y_test, y_pred)}')"
      ],
      "metadata": {
        "colab": {
          "base_uri": "https://localhost:8080/"
        },
        "id": "lO2gp3rbtcUo",
        "outputId": "607167d2-9654-4b0c-d885-ea730f3bdf56"
      },
      "execution_count": 26,
      "outputs": [
        {
          "output_type": "stream",
          "name": "stdout",
          "text": [
            "[[65  3]\n",
            " [ 7 25]]\n",
            "Score Accuracy : 0.9\n"
          ]
        }
      ]
    },
    {
      "cell_type": "markdown",
      "source": [
        "# **Visualising Training Set**"
      ],
      "metadata": {
        "id": "iM2H6OqHt_sK"
      }
    },
    {
      "cell_type": "code",
      "source": [
        "from matplotlib.colors import ListedColormap\n",
        "X_set, y_set = sc.inverse_transform(X_train), y_train\n",
        "X1, X2 = np.meshgrid(np.arange(start = X_set[:, 0].min() - 10, stop = X_set[:, 0].max() + 10, step = 0.25),\n",
        "                     np.arange(start = X_set[:, 1].min() - 1000, stop = X_set[:, 1].max() + 1000, step = 0.25))\n",
        "plt.contourf(X1, X2, cls.predict(sc.transform(np.array([X1.ravel(), X2.ravel()]).T)).reshape(X1.shape),\n",
        "             alpha = 0.75, cmap = ListedColormap(('salmon', 'dodgerblue')))\n",
        "plt.xlim(X1.min(), X1.max())\n",
        "plt.ylim(X2.min(), X2.max())\n",
        "for i, j in enumerate(np.unique(y_set)):\n",
        "    plt.scatter(X_set[y_set == j, 0], X_set[y_set == j, 1], c = ListedColormap(('salmon', 'dodgerblue'))(i), label = j)\n",
        "plt.title('Naive Bayes (Test set)')\n",
        "plt.xlabel('Age')\n",
        "plt.ylabel('Estimated Salary')\n",
        "plt.legend()\n",
        "plt.show()"
      ],
      "metadata": {
        "colab": {
          "base_uri": "https://localhost:8080/",
          "height": 528
        },
        "id": "MASqUzo0tcbm",
        "outputId": "89f877fb-016a-419c-dbfe-186953b22c12"
      },
      "execution_count": 31,
      "outputs": [
        {
          "output_type": "stream",
          "name": "stderr",
          "text": [
            "<ipython-input-31-3f97661842ac>:10: UserWarning: *c* argument looks like a single numeric RGB or RGBA sequence, which should be avoided as value-mapping will have precedence in case its length matches with *x* & *y*.  Please use the *color* keyword-argument or provide a 2D array with a single row if you intend to specify the same RGB or RGBA value for all points.\n",
            "  plt.scatter(X_set[y_set == j, 0], X_set[y_set == j, 1], c = ListedColormap(('salmon', 'dodgerblue'))(i), label = j)\n"
          ]
        },
        {
          "output_type": "display_data",
          "data": {
            "text/plain": [
              "<Figure size 640x480 with 1 Axes>"
            ],
            "image/png": "[encoded data removed]"
          },
          "metadata": {}
        }
      ]
    },
    {
      "cell_type": "code",
      "source": [
        "from matplotlib.colors import ListedColormap\n",
        "X_set, y_set = sc.inverse_transform(X_test), y_test\n",
        "X1, X2 = np.meshgrid(np.arange(start = X_set[:, 0].min() - 10, stop = X_set[:, 0].max() + 10, step = 0.25),\n",
        "                     np.arange(start = X_set[:, 1].min() - 1000, stop = X_set[:, 1].max() + 1000, step = 0.25))\n",
        "plt.contourf(X1, X2, cls.predict(sc.transform(np.array([X1.ravel(), X2.ravel()]).T)).reshape(X1.shape),\n",
        "             alpha = 0.75, cmap = ListedColormap(('salmon', 'dodgerblue')))\n",
        "plt.xlim(X1.min(), X1.max())\n",
        "plt.ylim(X2.min(), X2.max())\n",
        "for i, j in enumerate(np.unique(y_set)):\n",
        "    plt.scatter(X_set[y_set == j, 0], X_set[y_set == j, 1], c = ListedColormap(('salmon', 'dodgerblue'))(i), label = j)\n",
        "plt.title('Naive Bayes (Test set)')\n",
        "plt.xlabel('Age')\n",
        "plt.ylabel('Estimated Salary')\n",
        "plt.legend()\n",
        "plt.show()"
      ],
      "metadata": {
        "colab": {
          "base_uri": "https://localhost:8080/",
          "height": 528
        },
        "id": "6-Kqvt2kuvAO",
        "outputId": "6bece10c-d8c3-4a27-ce45-8a5632f89afc"
      },
      "execution_count": 30,
      "outputs": [
        {
          "output_type": "stream",
          "name": "stderr",
          "text": [
            "<ipython-input-30-785545fcb3fd>:10: UserWarning: *c* argument looks like a single numeric RGB or RGBA sequence, which should be avoided as value-mapping will have precedence in case its length matches with *x* & *y*.  Please use the *color* keyword-argument or provide a 2D array with a single row if you intend to specify the same RGB or RGBA value for all points.\n",
            "  plt.scatter(X_set[y_set == j, 0], X_set[y_set == j, 1], c = ListedColormap(('salmon', 'dodgerblue'))(i), label = j)\n"
          ]
        },
        {
          "output_type": "display_data",
          "data": {
            "text/plain": [
              "<Figure size 640x480 with 1 Axes>"
            ],
            "image/png": "[encoded data removed]"
          },
          "metadata": {}
        }
      ]
    }
  ]
}